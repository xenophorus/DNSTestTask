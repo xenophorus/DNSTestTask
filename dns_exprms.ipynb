{
 "cells": [
  {
   "cell_type": "code",
   "execution_count": 3,
   "id": "6efba846-d50c-42bf-a9c1-3ac62aafa42a",
   "metadata": {},
   "outputs": [],
   "source": [
    "import pandas as pd"
   ]
  },
  {
   "cell_type": "code",
   "execution_count": 4,
   "id": "da6bca48-0b8c-424b-859d-4ca94dc87f52",
   "metadata": {},
   "outputs": [],
   "source": [
    "branches = pd.read_csv(\"./test_task/data/t_branches.csv\")\n",
    "cities = pd.read_csv(\"./test_task/data/t_cities.csv\")\n",
    "products = pd.read_csv(\"./test_task/data/t_products.csv\")\n",
    "sales = pd.read_csv(\"./test_task/data/t_sales.csv\")\n"
   ]
  },
  {
   "cell_type": "code",
   "execution_count": 27,
   "id": "972a72ff-b564-4b85-aa9d-0b0ba759db1d",
   "metadata": {},
   "outputs": [
    {
     "name": "stdout",
     "output_type": "stream",
     "text": [
      "<class 'pandas.core.frame.DataFrame'>\n",
      "RangeIndex: 7964086 entries, 0 to 7964085\n",
      "Data columns (total 6 columns):\n",
      " #   Column        Dtype  \n",
      "---  ------        -----  \n",
      " 0   Unnamed: 0    int64  \n",
      " 1   Период        object \n",
      " 2   Филиал        object \n",
      " 3   Номенклатура  object \n",
      " 4   Количество    float64\n",
      " 5   Продажа       float64\n",
      "dtypes: float64(2), int64(1), object(3)\n",
      "memory usage: 364.6+ MB\n"
     ]
    }
   ],
   "source": [
    "sales.info()"
   ]
  },
  {
   "cell_type": "code",
   "execution_count": 16,
   "id": "d3608e2d-8bbf-4dce-922c-6386a33b817a",
   "metadata": {},
   "outputs": [
    {
     "data": {
      "text/html": [
       "<div>\n",
       "<style scoped>\n",
       "    .dataframe tbody tr th:only-of-type {\n",
       "        vertical-align: middle;\n",
       "    }\n",
       "\n",
       "    .dataframe tbody tr th {\n",
       "        vertical-align: top;\n",
       "    }\n",
       "\n",
       "    .dataframe thead th {\n",
       "        text-align: right;\n",
       "    }\n",
       "</style>\n",
       "<table border=\"1\" class=\"dataframe\">\n",
       "  <thead>\n",
       "    <tr style=\"text-align: right;\">\n",
       "      <th></th>\n",
       "      <th>Unnamed: 0</th>\n",
       "      <th>Ссылка</th>\n",
       "      <th>Наименование</th>\n",
       "    </tr>\n",
       "  </thead>\n",
       "  <tbody>\n",
       "    <tr>\n",
       "      <th>0</th>\n",
       "      <td>0</td>\n",
       "      <td>2c8a627d-7024-11de-9e32-0015174d2501</td>\n",
       "      <td>Кронштейн 40см.</td>\n",
       "    </tr>\n",
       "    <tr>\n",
       "      <th>1</th>\n",
       "      <td>1</td>\n",
       "      <td>498aefa0-59bd-11e0-b259-001517c526f0</td>\n",
       "      <td>Плеер DVD/MP3/MP4(DivX) Samsung DVD-D530 [HDMI...</td>\n",
       "    </tr>\n",
       "    <tr>\n",
       "      <th>2</th>\n",
       "      <td>2</td>\n",
       "      <td>6fdca235-b7e5-11e0-b04a-00155d030b07</td>\n",
       "      <td>Смартфон Nokia C5-00.2 2.2\" 270Mb Black 1x0.6G...</td>\n",
       "    </tr>\n",
       "    <tr>\n",
       "      <th>3</th>\n",
       "      <td>3</td>\n",
       "      <td>4fb645d6-03c0-11df-9cf0-00151716f9f5</td>\n",
       "      <td>Фотобумага Lomond A4 [0102046] 200 г\\м² глянце...</td>\n",
       "    </tr>\n",
       "    <tr>\n",
       "      <th>4</th>\n",
       "      <td>4</td>\n",
       "      <td>3bd974b5-7417-11e1-91a1-001517c526f0</td>\n",
       "      <td>Жесткий диск 2.5\" SATA-II  250Gb Seagate Momen...</td>\n",
       "    </tr>\n",
       "  </tbody>\n",
       "</table>\n",
       "</div>"
      ],
      "text/plain": [
       "   Unnamed: 0                                Ссылка  \\\n",
       "0           0  2c8a627d-7024-11de-9e32-0015174d2501   \n",
       "1           1  498aefa0-59bd-11e0-b259-001517c526f0   \n",
       "2           2  6fdca235-b7e5-11e0-b04a-00155d030b07   \n",
       "3           3  4fb645d6-03c0-11df-9cf0-00151716f9f5   \n",
       "4           4  3bd974b5-7417-11e1-91a1-001517c526f0   \n",
       "\n",
       "                                        Наименование  \n",
       "0                                    Кронштейн 40см.  \n",
       "1  Плеер DVD/MP3/MP4(DivX) Samsung DVD-D530 [HDMI...  \n",
       "2  Смартфон Nokia C5-00.2 2.2\" 270Mb Black 1x0.6G...  \n",
       "3  Фотобумага Lomond A4 [0102046] 200 г\\м² глянце...  \n",
       "4  Жесткий диск 2.5\" SATA-II  250Gb Seagate Momen...  "
      ]
     },
     "execution_count": 16,
     "metadata": {},
     "output_type": "execute_result"
    }
   ],
   "source": [
    "products.head(5)\n",
    "\n"
   ]
  },
  {
   "cell_type": "code",
   "execution_count": 36,
   "id": "fd953d2e-de4d-4057-aef1-f40f5f4b2d7d",
   "metadata": {},
   "outputs": [
    {
     "data": {
      "text/html": [
       "<div>\n",
       "<style scoped>\n",
       "    .dataframe tbody tr th:only-of-type {\n",
       "        vertical-align: middle;\n",
       "    }\n",
       "\n",
       "    .dataframe tbody tr th {\n",
       "        vertical-align: top;\n",
       "    }\n",
       "\n",
       "    .dataframe thead th {\n",
       "        text-align: right;\n",
       "    }\n",
       "</style>\n",
       "<table border=\"1\" class=\"dataframe\">\n",
       "  <thead>\n",
       "    <tr style=\"text-align: right;\">\n",
       "      <th></th>\n",
       "      <th>Unnamed: 0</th>\n",
       "      <th>Период</th>\n",
       "      <th>Филиал</th>\n",
       "      <th>Номенклатура</th>\n",
       "      <th>Количество</th>\n",
       "      <th>Продажа</th>\n",
       "      <th>Наименование</th>\n",
       "    </tr>\n",
       "  </thead>\n",
       "  <tbody>\n",
       "    <tr>\n",
       "      <th>0</th>\n",
       "      <td>0</td>\n",
       "      <td>2012-01-04 18:08:19</td>\n",
       "      <td>7080ffe3-e48e-46ab-882b-47d4d2146737</td>\n",
       "      <td>b90d9481-8766-11e0-bdeb-00155d030b07</td>\n",
       "      <td>1.0</td>\n",
       "      <td>485.0</td>\n",
       "      <td>Память USB 2.0 Flash Verbatim 8 Gb Netbook/Black</td>\n",
       "    </tr>\n",
       "    <tr>\n",
       "      <th>1</th>\n",
       "      <td>1</td>\n",
       "      <td>2012-01-11 17:17:08</td>\n",
       "      <td>995135eb-2c57-11dd-900f-00151716f9f5</td>\n",
       "      <td>ce106c89-fe54-11de-b2fc-00151716f9f5</td>\n",
       "      <td>1.0</td>\n",
       "      <td>590.0</td>\n",
       "      <td>Память USB 2.0 Flash Transcend 8 Gb JetFlash 6...</td>\n",
       "    </tr>\n",
       "    <tr>\n",
       "      <th>2</th>\n",
       "      <td>2</td>\n",
       "      <td>2012-01-03 14:07:10</td>\n",
       "      <td>8822e357-e9be-4789-8f69-092344105a6b</td>\n",
       "      <td>eac2aa80-272b-11df-b750-001517c526f1</td>\n",
       "      <td>1.0</td>\n",
       "      <td>95.0</td>\n",
       "      <td>Чернила Colouring для устройств Canon/Epson/HP...</td>\n",
       "    </tr>\n",
       "    <tr>\n",
       "      <th>3</th>\n",
       "      <td>3</td>\n",
       "      <td>2012-01-03 14:07:10</td>\n",
       "      <td>8822e357-e9be-4789-8f69-092344105a6b</td>\n",
       "      <td>eac2aa7f-272b-11df-b750-001517c526f1</td>\n",
       "      <td>1.0</td>\n",
       "      <td>95.0</td>\n",
       "      <td>Чернила Colouring для устройств Canon/Epson/HP...</td>\n",
       "    </tr>\n",
       "    <tr>\n",
       "      <th>4</th>\n",
       "      <td>4</td>\n",
       "      <td>2012-01-03 14:07:10</td>\n",
       "      <td>8822e357-e9be-4789-8f69-092344105a6b</td>\n",
       "      <td>eac2aa7d-272b-11df-b750-001517c526f1</td>\n",
       "      <td>1.0</td>\n",
       "      <td>95.0</td>\n",
       "      <td>Чернила Colouring для устройств Canon/Epson/HP...</td>\n",
       "    </tr>\n",
       "  </tbody>\n",
       "</table>\n",
       "</div>"
      ],
      "text/plain": [
       "   Unnamed: 0               Период                                Филиал  \\\n",
       "0           0  2012-01-04 18:08:19  7080ffe3-e48e-46ab-882b-47d4d2146737   \n",
       "1           1  2012-01-11 17:17:08  995135eb-2c57-11dd-900f-00151716f9f5   \n",
       "2           2  2012-01-03 14:07:10  8822e357-e9be-4789-8f69-092344105a6b   \n",
       "3           3  2012-01-03 14:07:10  8822e357-e9be-4789-8f69-092344105a6b   \n",
       "4           4  2012-01-03 14:07:10  8822e357-e9be-4789-8f69-092344105a6b   \n",
       "\n",
       "                           Номенклатура  Количество  Продажа  \\\n",
       "0  b90d9481-8766-11e0-bdeb-00155d030b07         1.0    485.0   \n",
       "1  ce106c89-fe54-11de-b2fc-00151716f9f5         1.0    590.0   \n",
       "2  eac2aa80-272b-11df-b750-001517c526f1         1.0     95.0   \n",
       "3  eac2aa7f-272b-11df-b750-001517c526f1         1.0     95.0   \n",
       "4  eac2aa7d-272b-11df-b750-001517c526f1         1.0     95.0   \n",
       "\n",
       "                                        Наименование  \n",
       "0   Память USB 2.0 Flash Verbatim 8 Gb Netbook/Black  \n",
       "1  Память USB 2.0 Flash Transcend 8 Gb JetFlash 6...  \n",
       "2  Чернила Colouring для устройств Canon/Epson/HP...  \n",
       "3  Чернила Colouring для устройств Canon/Epson/HP...  \n",
       "4  Чернила Colouring для устройств Canon/Epson/HP...  "
      ]
     },
     "execution_count": 36,
     "metadata": {},
     "output_type": "execute_result"
    }
   ],
   "source": [
    "df_named_sales = pd.merge(left=sales, right=products[[\"Наименование\", \"Ссылка\"]], left_on=\"Номенклатура\", right_on=\"Ссылка\").drop(\"Ссылка\", axis=1)\n",
    "df_named_sales.head(5)"
   ]
  },
  {
   "cell_type": "code",
   "execution_count": 55,
   "id": "550cc8a5-32c3-47ac-b37f-04972ef307c8",
   "metadata": {},
   "outputs": [
    {
     "data": {
      "text/plain": [
       "(7964086, 7)"
      ]
     },
     "execution_count": 55,
     "metadata": {},
     "output_type": "execute_result"
    }
   ],
   "source": [
    "df_named_sales.shape"
   ]
  }
 ],
 "metadata": {
  "kernelspec": {
   "display_name": "Python 3 (ipykernel)",
   "language": "python",
   "name": "python3"
  },
  "language_info": {
   "codemirror_mode": {
    "name": "ipython",
    "version": 3
   },
   "file_extension": ".py",
   "mimetype": "text/x-python",
   "name": "python",
   "nbconvert_exporter": "python",
   "pygments_lexer": "ipython3",
   "version": "3.12.7"
  }
 },
 "nbformat": 4,
 "nbformat_minor": 5
}
